{
  "cells": [
    {
      "cell_type": "markdown",
      "metadata": {
        "id": "N-OmTFM5jfnL"
      },
      "source": [
        "<center><img src='https://i.postimg.cc/TPR1n1rp/AI-Tech-PL-RGB.png' height=\"60\"></center>\n",
        "\n",
        "AI TECH - Akademia Innowacyjnych Zastosowań Technologii Cyfrowych. Programu Operacyjnego Polska Cyfrowa na lata 2014-2020\n",
        "<hr>\n",
        "\n",
        "<center><img src='https://i.postimg.cc/Gpq2KRQz/logotypy-aitech.jpg'></center>\n",
        "\n",
        "<center>\n",
        "Projekt współfinansowany ze środków Unii Europejskiej w ramach Europejskiego Funduszu Rozwoju Regionalnego\n",
        "Program Operacyjny Polska Cyfrowa na lata 2014-2020,\n",
        "Oś Priorytetowa nr 3 \"Cyfrowe kompetencje społeczeństwa\" Działanie  nr 3.2 \"Innowacyjne rozwiązania na rzecz aktywizacji cyfrowej\"\n",
        "Tytuł projektu:  „Akademia Innowacyjnych Zastosowań Technologii Cyfrowych (AI Tech)”\n",
        "</center>"
      ]
    },
    {
      "cell_type": "markdown",
      "metadata": {
        "id": "0x1m0s-3jdQp"
      },
      "source": [
        "# Lab 08: Imitation Learning\n",
        "\n",
        "In this lab, we look into the problem of learning from expert demonstrations.\n",
        "\n",
        "- Find a policy $\\pi(a | s)$ that best imitates the expert policy $\\pi^*(a | s)$ in the given environment.\n",
        "- It's worth noting, that we don't need access to the environment rewards.\n",
        "\n",
        "Major Imitation Learning techniques are:\n",
        "\n",
        "1. Behavioural Cloning,\n",
        "1. Imitation Learning via Interactive Demonstrator e.g. SMILe (Ross and Bagnell, 2010) or DAgger (Ross et al., 2011),\n",
        "1. Inverse Reinforcement Learning -- out of scope of this lab.\n",
        "\n",
        "We will solve the Ant problem, shown below, examining the first two approaches."
      ]
    },
    {
      "cell_type": "markdown",
      "metadata": {
        "id": "DjqgLL8EjjAh"
      },
      "source": [
        "## Install dependencies"
      ]
    },
    {
      "cell_type": "code",
      "execution_count": null,
      "metadata": {
        "id": "Yt4UPVjXjZKI",
        "colab": {
          "base_uri": "https://localhost:8080/"
        },
        "outputId": "ead41c1d-4cc4-48cb-9bc1-565d3de1a96c"
      },
      "outputs": [
        {
          "output_type": "stream",
          "name": "stdout",
          "text": [
            "\u001b[2K     \u001b[90m━━━━━━━━━━━━━━━━━━━━━━━━━━━━━━━━━━━━━━━━\u001b[0m \u001b[32m44.4/44.4 kB\u001b[0m \u001b[31m3.1 MB/s\u001b[0m eta \u001b[36m0:00:00\u001b[0m\n",
            "\u001b[2K   \u001b[90m━━━━━━━━━━━━━━━━━━━━━━━━━━━━━━━━━━━━━━━━\u001b[0m \u001b[32m6.6/6.6 MB\u001b[0m \u001b[31m110.5 MB/s\u001b[0m eta \u001b[36m0:00:00\u001b[0m\n",
            "\u001b[2K   \u001b[90m━━━━━━━━━━━━━━━━━━━━━━━━━━━━━━━━━━━━━━━━\u001b[0m \u001b[32m243.5/243.5 kB\u001b[0m \u001b[31m22.5 MB/s\u001b[0m eta \u001b[36m0:00:00\u001b[0m\n",
            "\u001b[2K   \u001b[90m━━━━━━━━━━━━━━━━━━━━━━━━━━━━━━━━━━━━━━━━\u001b[0m \u001b[32m984.0/984.0 kB\u001b[0m \u001b[31m56.7 MB/s\u001b[0m eta \u001b[36m0:00:00\u001b[0m\n",
            "\u001b[?25h"
          ]
        }
      ],
      "source": [
        "!pip -q install gymnasium[mujoco]\n",
        "!pip -q install pyglet\n",
        "!pip -q install pyopengl\n",
        "!pip -q install pyvirtualdisplay"
      ]
    },
    {
      "cell_type": "code",
      "source": [
        "!pip install --upgrade torch==2.6.0\n",
        "!pip install --upgrade numpy==1.26.4\n",
        "!pip install --upgrade gymnasium==0.29.1"
      ],
      "metadata": {
        "colab": {
          "base_uri": "https://localhost:8080/"
        },
        "id": "5gW2qBy10bP5",
        "outputId": "18f2c0ee-6d19-4220-e7ce-33b9b07a687b"
      },
      "execution_count": null,
      "outputs": [
        {
          "output_type": "stream",
          "name": "stdout",
          "text": [
            "Requirement already satisfied: torch==2.6.0 in /usr/local/lib/python3.11/dist-packages (2.6.0+cu124)\n",
            "Requirement already satisfied: filelock in /usr/local/lib/python3.11/dist-packages (from torch==2.6.0) (3.18.0)\n",
            "Requirement already satisfied: typing-extensions>=4.10.0 in /usr/local/lib/python3.11/dist-packages (from torch==2.6.0) (4.13.2)\n",
            "Requirement already satisfied: networkx in /usr/local/lib/python3.11/dist-packages (from torch==2.6.0) (3.4.2)\n",
            "Requirement already satisfied: jinja2 in /usr/local/lib/python3.11/dist-packages (from torch==2.6.0) (3.1.6)\n",
            "Requirement already satisfied: fsspec in /usr/local/lib/python3.11/dist-packages (from torch==2.6.0) (2025.3.2)\n",
            "Requirement already satisfied: nvidia-cuda-nvrtc-cu12==12.4.127 in /usr/local/lib/python3.11/dist-packages (from torch==2.6.0) (12.4.127)\n",
            "Requirement already satisfied: nvidia-cuda-runtime-cu12==12.4.127 in /usr/local/lib/python3.11/dist-packages (from torch==2.6.0) (12.4.127)\n",
            "Requirement already satisfied: nvidia-cuda-cupti-cu12==12.4.127 in /usr/local/lib/python3.11/dist-packages (from torch==2.6.0) (12.4.127)\n",
            "Requirement already satisfied: nvidia-cudnn-cu12==9.1.0.70 in /usr/local/lib/python3.11/dist-packages (from torch==2.6.0) (9.1.0.70)\n",
            "Requirement already satisfied: nvidia-cublas-cu12==12.4.5.8 in /usr/local/lib/python3.11/dist-packages (from torch==2.6.0) (12.4.5.8)\n",
            "Requirement already satisfied: nvidia-cufft-cu12==11.2.1.3 in /usr/local/lib/python3.11/dist-packages (from torch==2.6.0) (11.2.1.3)\n",
            "Requirement already satisfied: nvidia-curand-cu12==10.3.5.147 in /usr/local/lib/python3.11/dist-packages (from torch==2.6.0) (10.3.5.147)\n",
            "Requirement already satisfied: nvidia-cusolver-cu12==11.6.1.9 in /usr/local/lib/python3.11/dist-packages (from torch==2.6.0) (11.6.1.9)\n",
            "Requirement already satisfied: nvidia-cusparse-cu12==12.3.1.170 in /usr/local/lib/python3.11/dist-packages (from torch==2.6.0) (12.3.1.170)\n",
            "Requirement already satisfied: nvidia-cusparselt-cu12==0.6.2 in /usr/local/lib/python3.11/dist-packages (from torch==2.6.0) (0.6.2)\n",
            "Requirement already satisfied: nvidia-nccl-cu12==2.21.5 in /usr/local/lib/python3.11/dist-packages (from torch==2.6.0) (2.21.5)\n",
            "Requirement already satisfied: nvidia-nvtx-cu12==12.4.127 in /usr/local/lib/python3.11/dist-packages (from torch==2.6.0) (12.4.127)\n",
            "Requirement already satisfied: nvidia-nvjitlink-cu12==12.4.127 in /usr/local/lib/python3.11/dist-packages (from torch==2.6.0) (12.4.127)\n",
            "Requirement already satisfied: triton==3.2.0 in /usr/local/lib/python3.11/dist-packages (from torch==2.6.0) (3.2.0)\n",
            "Requirement already satisfied: sympy==1.13.1 in /usr/local/lib/python3.11/dist-packages (from torch==2.6.0) (1.13.1)\n",
            "Requirement already satisfied: mpmath<1.4,>=1.1.0 in /usr/local/lib/python3.11/dist-packages (from sympy==1.13.1->torch==2.6.0) (1.3.0)\n",
            "Requirement already satisfied: MarkupSafe>=2.0 in /usr/local/lib/python3.11/dist-packages (from jinja2->torch==2.6.0) (3.0.2)\n",
            "Requirement already satisfied: numpy==1.26.4 in /usr/local/lib/python3.11/dist-packages (1.26.4)\n",
            "Requirement already satisfied: gymnasium==0.29.1 in /usr/local/lib/python3.11/dist-packages (0.29.1)\n",
            "Requirement already satisfied: numpy>=1.21.0 in /usr/local/lib/python3.11/dist-packages (from gymnasium==0.29.1) (1.26.4)\n",
            "Requirement already satisfied: cloudpickle>=1.2.0 in /usr/local/lib/python3.11/dist-packages (from gymnasium==0.29.1) (3.1.1)\n",
            "Requirement already satisfied: typing-extensions>=4.3.0 in /usr/local/lib/python3.11/dist-packages (from gymnasium==0.29.1) (4.13.2)\n",
            "Requirement already satisfied: farama-notifications>=0.0.1 in /usr/local/lib/python3.11/dist-packages (from gymnasium==0.29.1) (0.0.4)\n"
          ]
        }
      ]
    },
    {
      "cell_type": "code",
      "execution_count": null,
      "metadata": {
        "colab": {
          "base_uri": "https://localhost:8080/"
        },
        "id": "xEJxM_OWyIiu",
        "outputId": "985dfb87-e667-4d48-d437-3d19c8a2992b"
      },
      "outputs": [
        {
          "output_type": "stream",
          "name": "stdout",
          "text": [
            "Cloning into 'sample-factory'...\n",
            "remote: Enumerating objects: 17613, done.\u001b[K\n",
            "remote: Counting objects: 100% (2165/2165), done.\u001b[K\n",
            "remote: Compressing objects: 100% (328/328), done.\u001b[K\n",
            "remote: Total 17613 (delta 1940), reused 1838 (delta 1837), pack-reused 15448 (from 2)\u001b[K\n",
            "Receiving objects: 100% (17613/17613), 99.05 MiB | 15.21 MiB/s, done.\n",
            "Resolving deltas: 100% (13898/13898), done.\n"
          ]
        }
      ],
      "source": [
        "!git clone --branch torch-2.6-fix https://github.com/lychanl/sample-factory.git"
      ]
    },
    {
      "cell_type": "code",
      "execution_count": null,
      "metadata": {
        "id": "BZL76yoD36R2",
        "colab": {
          "base_uri": "https://localhost:8080/"
        },
        "outputId": "dc347fbf-f60c-4514-c357-565e232181d7"
      },
      "outputs": [
        {
          "output_type": "stream",
          "name": "stdout",
          "text": [
            "  Installing build dependencies ... \u001b[?25l\u001b[?25hdone\n",
            "  Getting requirements to build wheel ... \u001b[?25l\u001b[?25hdone\n",
            "  Preparing metadata (pyproject.toml) ... \u001b[?25l\u001b[?25hdone\n",
            "\u001b[2K     \u001b[90m━━━━━━━━━━━━━━━━━━━━━━━━━━━━━━━━━━━━━━━━\u001b[0m \u001b[32m61.0/61.0 kB\u001b[0m \u001b[31m5.1 MB/s\u001b[0m eta \u001b[36m0:00:00\u001b[0m\n",
            "\u001b[2K   \u001b[90m━━━━━━━━━━━━━━━━━━━━━━━━━━━━━━━━━━━━━━━━\u001b[0m \u001b[32m953.9/953.9 kB\u001b[0m \u001b[31m54.6 MB/s\u001b[0m eta \u001b[36m0:00:00\u001b[0m\n",
            "\u001b[2K   \u001b[90m━━━━━━━━━━━━━━━━━━━━━━━━━━━━━━━━━━━━━━━━\u001b[0m \u001b[32m4.6/4.6 MB\u001b[0m \u001b[31m77.3 MB/s\u001b[0m eta \u001b[36m0:00:00\u001b[0m\n",
            "\u001b[2K   \u001b[90m━━━━━━━━━━━━━━━━━━━━━━━━━━━━━━━━━━━━━━━━\u001b[0m \u001b[32m18.3/18.3 MB\u001b[0m \u001b[31m98.7 MB/s\u001b[0m eta \u001b[36m0:00:00\u001b[0m\n",
            "\u001b[2K   \u001b[90m━━━━━━━━━━━━━━━━━━━━━━━━━━━━━━━━━━━━━━━━\u001b[0m \u001b[32m101.7/101.7 kB\u001b[0m \u001b[31m10.2 MB/s\u001b[0m eta \u001b[36m0:00:00\u001b[0m\n",
            "\u001b[2K   \u001b[90m━━━━━━━━━━━━━━━━━━━━━━━━━━━━━━━━━━━━━━━━\u001b[0m \u001b[32m363.4/363.4 MB\u001b[0m \u001b[31m1.4 MB/s\u001b[0m eta \u001b[36m0:00:00\u001b[0m\n",
            "\u001b[2K   \u001b[90m━━━━━━━━━━━━━━━━━━━━━━━━━━━━━━━━━━━━━━━━\u001b[0m \u001b[32m13.8/13.8 MB\u001b[0m \u001b[31m116.3 MB/s\u001b[0m eta \u001b[36m0:00:00\u001b[0m\n",
            "\u001b[2K   \u001b[90m━━━━━━━━━━━━━━━━━━━━━━━━━━━━━━━━━━━━━━━━\u001b[0m \u001b[32m24.6/24.6 MB\u001b[0m \u001b[31m90.9 MB/s\u001b[0m eta \u001b[36m0:00:00\u001b[0m\n",
            "\u001b[2K   \u001b[90m━━━━━━━━━━━━━━━━━━━━━━━━━━━━━━━━━━━━━━━━\u001b[0m \u001b[32m883.7/883.7 kB\u001b[0m \u001b[31m43.1 MB/s\u001b[0m eta \u001b[36m0:00:00\u001b[0m\n",
            "\u001b[2K   \u001b[90m━━━━━━━━━━━━━━━━━━━━━━━━━━━━━━━━━━━━━━━━\u001b[0m \u001b[32m664.8/664.8 MB\u001b[0m \u001b[31m2.7 MB/s\u001b[0m eta \u001b[36m0:00:00\u001b[0m\n",
            "\u001b[2K   \u001b[90m━━━━━━━━━━━━━━━━━━━━━━━━━━━━━━━━━━━━━━━━\u001b[0m \u001b[32m211.5/211.5 MB\u001b[0m \u001b[31m5.3 MB/s\u001b[0m eta \u001b[36m0:00:00\u001b[0m\n",
            "\u001b[2K   \u001b[90m━━━━━━━━━━━━━━━━━━━━━━━━━━━━━━━━━━━━━━━━\u001b[0m \u001b[32m56.3/56.3 MB\u001b[0m \u001b[31m17.1 MB/s\u001b[0m eta \u001b[36m0:00:00\u001b[0m\n",
            "\u001b[2K   \u001b[90m━━━━━━━━━━━━━━━━━━━━━━━━━━━━━━━━━━━━━━━━\u001b[0m \u001b[32m127.9/127.9 MB\u001b[0m \u001b[31m7.3 MB/s\u001b[0m eta \u001b[36m0:00:00\u001b[0m\n",
            "\u001b[2K   \u001b[90m━━━━━━━━━━━━━━━━━━━━━━━━━━━━━━━━━━━━━━━━\u001b[0m \u001b[32m207.5/207.5 MB\u001b[0m \u001b[31m5.4 MB/s\u001b[0m eta \u001b[36m0:00:00\u001b[0m\n",
            "\u001b[2K   \u001b[90m━━━━━━━━━━━━━━━━━━━━━━━━━━━━━━━━━━━━━━━━\u001b[0m \u001b[32m21.1/21.1 MB\u001b[0m \u001b[31m39.5 MB/s\u001b[0m eta \u001b[36m0:00:00\u001b[0m\n",
            "\u001b[2K   \u001b[90m━━━━━━━━━━━━━━━━━━━━━━━━━━━━━━━━━━━━━━━━\u001b[0m \u001b[32m423.2/423.2 kB\u001b[0m \u001b[31m28.4 MB/s\u001b[0m eta \u001b[36m0:00:00\u001b[0m\n",
            "\u001b[?25h  Building wheel for sample-factory (pyproject.toml) ... \u001b[?25l\u001b[?25hdone\n",
            "\u001b[31mERROR: pip's dependency resolver does not currently take into account all the packages that are installed. This behaviour is the source of the following dependency conflicts.\n",
            "thinc 8.3.6 requires numpy<3.0.0,>=2.0.0, but you have numpy 1.26.4 which is incompatible.\n",
            "dopamine-rl 4.1.2 requires gymnasium>=1.0.0, but you have gymnasium 0.29.1 which is incompatible.\u001b[0m\u001b[31m\n",
            "\u001b[0m"
          ]
        }
      ],
      "source": [
        "!pip install -q ./sample-factory[mujoco]"
      ]
    },
    {
      "cell_type": "code",
      "execution_count": null,
      "metadata": {
        "colab": {
          "base_uri": "https://localhost:8080/"
        },
        "id": "jjfRlCiT4SOV",
        "outputId": "2b160f4a-d9d7-4ecf-9e09-9e563ccb6548"
      },
      "outputs": [
        {
          "output_type": "stream",
          "name": "stdout",
          "text": [
            "/content/sample-factory\n"
          ]
        }
      ],
      "source": [
        "%cd sample-factory"
      ]
    },
    {
      "cell_type": "markdown",
      "metadata": {
        "id": "5iGPfs9zjpkQ"
      },
      "source": [
        "## Download Expert"
      ]
    },
    {
      "cell_type": "code",
      "execution_count": null,
      "metadata": {
        "colab": {
          "base_uri": "https://localhost:8080/"
        },
        "id": "Urgn_w9OyKJ-",
        "outputId": "d4eb6865-5c8a-48f3-b0c0-6393b0fe3eb5"
      },
      "outputs": [
        {
          "output_type": "stream",
          "name": "stdout",
          "text": [
            "/usr/local/lib/python3.11/dist-packages/huggingface_hub/utils/_deprecation.py:131: FutureWarning: 'Repository' (from 'huggingface_hub.repository') is deprecated and will be removed from version '1.0'. Please prefer the http-based alternatives instead. Given its large adoption in legacy code, the complete removal is only planned on next major release.\n",
            "For more details, please read https://huggingface.co/docs/huggingface_hub/concepts/git_vs_http.\n",
            "  warnings.warn(warning_message, FutureWarning)\n",
            "Cloning https://huggingface.co/LLParallax/sf_Ant into local empty directory.\n",
            "\u001b[37m\u001b[1m[2025-04-24 12:35:14,255][04939] The repository LLParallax/sf_Ant has been cloned to ./train_dir/sf_Ant\u001b[0m\n"
          ]
        }
      ],
      "source": [
        "!python -m sample_factory.huggingface.load_from_hub -r LLParallax/sf_Ant"
      ]
    },
    {
      "cell_type": "code",
      "execution_count": null,
      "metadata": {
        "id": "jAKmX9wQmJKM"
      },
      "outputs": [],
      "source": [
        "import functools\n",
        "\n",
        "import torch\n",
        "\n",
        "from sample_factory.algo.learning.learner import Learner\n",
        "from sample_factory.algo.utils.env_info import extract_env_info\n",
        "from sample_factory.algo.utils.make_env import make_env_func_batched\n",
        "from sample_factory.algo.utils.rl_utils import prepare_and_normalize_obs\n",
        "from sample_factory.cfg.arguments import load_from_checkpoint\n",
        "from sample_factory.model.actor_critic import create_actor_critic\n",
        "from sample_factory.model.model_utils import get_rnn_size\n",
        "from sample_factory.utils.attr_dict import AttrDict\n",
        "from sample_factory.utils.typing import Config\n",
        "\n",
        "\n",
        "def create_expert(cfg):\n",
        "    cfg = load_from_checkpoint(cfg)\n",
        "\n",
        "    cfg.num_envs = 1\n",
        "\n",
        "    env = make_env_func_batched(\n",
        "        cfg, env_config=AttrDict(worker_index=0, vector_index=0, env_id=0), render_mode=None\n",
        "    )\n",
        "\n",
        "    if hasattr(env.unwrapped, \"reset_on_init\"):\n",
        "        # reset call ruins the demo recording for VizDoom\n",
        "        env.unwrapped.reset_on_init = False\n",
        "\n",
        "    actor_critic = create_actor_critic(cfg, env.observation_space, env.action_space)\n",
        "    actor_critic.eval()\n",
        "\n",
        "    device = torch.device(\"cpu\" if cfg.device == \"cpu\" else \"cuda\")\n",
        "    actor_critic.model_to_device(device)\n",
        "\n",
        "    policy_id = cfg.policy_index\n",
        "    name_prefix = dict(latest=\"checkpoint\", best=\"best\")[cfg.load_checkpoint_kind]\n",
        "    checkpoints = Learner.get_checkpoints(Learner.checkpoint_dir(cfg, policy_id), f\"{name_prefix}_*\")\n",
        "    checkpoint_dict = Learner.load_checkpoint(checkpoints, device)\n",
        "    actor_critic.load_state_dict(checkpoint_dict[\"model\"])\n",
        "    return actor_critic\n",
        "\n",
        "\n",
        "def get_expert_actions(obs, cfg: Config, actor_critic, env, env_info, device):\n",
        "    rnn_states = torch.zeros([env.num_agents, get_rnn_size(cfg)], dtype=torch.float32, device=device)\n",
        "\n",
        "    obs = {\"obs\": obs}\n",
        "    with torch.no_grad():\n",
        "        normalized_obs = prepare_and_normalize_obs(actor_critic, obs)\n",
        "        policy_outputs = actor_critic(normalized_obs, rnn_states)\n",
        "\n",
        "        # sample actions from the distribution by default\n",
        "        actions = policy_outputs[\"actions\"]\n",
        "    return actions"
      ]
    },
    {
      "cell_type": "markdown",
      "metadata": {
        "id": "2naspguhjm9h"
      },
      "source": [
        "## Load expert model"
      ]
    },
    {
      "cell_type": "code",
      "execution_count": null,
      "metadata": {
        "colab": {
          "base_uri": "https://localhost:8080/"
        },
        "id": "hoaZGg2kiYWl",
        "outputId": "c9799625-ba8d-409a-9353-f672b3b5203f"
      },
      "outputs": [
        {
          "output_type": "stream",
          "name": "stderr",
          "text": [
            "\u001b[33m[2025-04-24 12:48:16,271][08395] Loading existing experiment configuration from train_dir/sf_Ant/config.json\u001b[0m\n",
            "\u001b[36m[2025-04-24 12:48:16,272][08395] Overriding arg 'experiment' with value 'sf_Ant' passed from command line\u001b[0m\n",
            "\u001b[36m[2025-04-24 12:48:16,274][08395] Overriding arg 'train_dir' with value 'train_dir' passed from command line\u001b[0m\n",
            "\u001b[36m[2025-04-24 12:48:16,275][08395] Adding new argument 'wandb_dir'='/content/sample-factory/wandb' that is not in the saved config file!\u001b[0m\n",
            "\u001b[36m[2025-04-24 12:48:16,276][08395] Adding new argument 'fps'=0 that is not in the saved config file!\u001b[0m\n",
            "\u001b[36m[2025-04-24 12:48:16,277][08395] Adding new argument 'eval_env_frameskip'=None that is not in the saved config file!\u001b[0m\n",
            "\u001b[36m[2025-04-24 12:48:16,278][08395] Adding new argument 'no_render'=True that is not in the saved config file!\u001b[0m\n",
            "\u001b[36m[2025-04-24 12:48:16,279][08395] Adding new argument 'save_video'=False that is not in the saved config file!\u001b[0m\n",
            "\u001b[36m[2025-04-24 12:48:16,280][08395] Adding new argument 'video_frames'=1000000000.0 that is not in the saved config file!\u001b[0m\n",
            "\u001b[36m[2025-04-24 12:48:16,281][08395] Adding new argument 'video_name'=None that is not in the saved config file!\u001b[0m\n",
            "\u001b[36m[2025-04-24 12:48:16,282][08395] Adding new argument 'max_num_frames'=1000000000.0 that is not in the saved config file!\u001b[0m\n",
            "\u001b[36m[2025-04-24 12:48:16,283][08395] Adding new argument 'max_num_episodes'=1000000000.0 that is not in the saved config file!\u001b[0m\n",
            "\u001b[36m[2025-04-24 12:48:16,284][08395] Adding new argument 'push_to_hub'=False that is not in the saved config file!\u001b[0m\n",
            "\u001b[36m[2025-04-24 12:48:16,285][08395] Adding new argument 'hf_repository'=None that is not in the saved config file!\u001b[0m\n",
            "\u001b[36m[2025-04-24 12:48:16,286][08395] Adding new argument 'policy_index'=0 that is not in the saved config file!\u001b[0m\n",
            "\u001b[36m[2025-04-24 12:48:16,287][08395] Adding new argument 'eval_deterministic'=False that is not in the saved config file!\u001b[0m\n",
            "\u001b[36m[2025-04-24 12:48:16,288][08395] Adding new argument 'train_script'=None that is not in the saved config file!\u001b[0m\n",
            "\u001b[36m[2025-04-24 12:48:16,288][08395] Adding new argument 'enjoy_script'=None that is not in the saved config file!\u001b[0m\n",
            "\u001b[36m[2025-04-24 12:48:16,289][08395] Adding new argument 'sample_env_episodes'=256 that is not in the saved config file!\u001b[0m\n",
            "\u001b[36m[2025-04-24 12:48:16,290][08395] Adding new argument 'csv_folder_name'=None that is not in the saved config file!\u001b[0m\n",
            "/usr/local/lib/python3.11/dist-packages/gymnasium/core.py:311: UserWarning: \u001b[33mWARN: env.num_agents to get variables from other wrappers is deprecated and will be removed in v1.0, to get this variable you can do `env.unwrapped.num_agents` for environment variables or `env.get_wrapper_attr('num_agents')` that will search the reminding wrappers.\u001b[0m\n",
            "  logger.warn(\n",
            "/usr/local/lib/python3.11/dist-packages/gymnasium/core.py:311: UserWarning: \u001b[33mWARN: env.is_multiagent to get variables from other wrappers is deprecated and will be removed in v1.0, to get this variable you can do `env.unwrapped.is_multiagent` for environment variables or `env.get_wrapper_attr('is_multiagent')` that will search the reminding wrappers.\u001b[0m\n",
            "  logger.warn(\n",
            "\u001b[36m[2025-04-24 12:48:16,526][08395] RunningMeanStd input shape: (27,)\u001b[0m\n",
            "\u001b[36m[2025-04-24 12:48:16,565][08395] RunningMeanStd input shape: (1,)\u001b[0m\n",
            "\u001b[33m[2025-04-24 12:48:16,911][08395] Loading state from checkpoint train_dir/sf_Ant/checkpoint_p0/checkpoint_000019544_10006528.pth...\u001b[0m\n"
          ]
        }
      ],
      "source": [
        "from sample_factory.cfg.arguments import parse_full_cfg, parse_sf_args\n",
        "from sample_factory.envs.env_utils import register_env\n",
        "from sf_examples.mujoco.mujoco_params import add_mujoco_env_args, mujoco_override_defaults\n",
        "from sf_examples.mujoco.train_mujoco import register_mujoco_components\n",
        "from sf_examples.mujoco.mujoco_utils import MUJOCO_ENVS, make_mujoco_env\n",
        "\n",
        "\n",
        "def register_mujoco_components():\n",
        "    for env in MUJOCO_ENVS:\n",
        "        register_env(env.name, make_mujoco_env)\n",
        "\n",
        "\n",
        "register_mujoco_components()\n",
        "argv = [\"--algo=APPO\", \"--env=mujoco_ant\", \"--experiment=sf_Ant\", \"--train_dir=train_dir\", \"--no_render\"]\n",
        "parser, partial_cfg = parse_sf_args(argv=argv, evaluation=True)\n",
        "add_mujoco_env_args(partial_cfg.env, parser)\n",
        "mujoco_override_defaults(partial_cfg.env, parser)\n",
        "cfg = parse_full_cfg(parser, argv=argv)\n",
        "expert = create_expert(cfg)"
      ]
    },
    {
      "cell_type": "markdown",
      "metadata": {
        "id": "mrGdCIr0iaLt"
      },
      "source": [
        "## Helpers\n",
        "collecting data  \n",
        "\n",
        "evaluation"
      ]
    },
    {
      "cell_type": "code",
      "execution_count": null,
      "metadata": {
        "id": "OPi_r6R8ibVF"
      },
      "outputs": [],
      "source": [
        "import time\n",
        "\n",
        "from IPython import display as ipydisplay\n",
        "\n",
        "import torch\n",
        "import gymnasium as gym\n",
        "import matplotlib.pyplot as plt\n",
        "import numpy as np\n",
        "\n",
        "from matplotlib import animation\n",
        "\n",
        "\n",
        "@torch.no_grad()\n",
        "def run_policy (env, model, total_steps=10000, verbose=True):\n",
        "    obs_array = np.empty([total_steps, *env.observation_space.shape])\n",
        "    act_array = np.empty([total_steps, env.action_space.shape[0]])\n",
        "    rew_array = np.empty([total_steps, 1])\n",
        "    done_array = np.empty([total_steps, 1])\n",
        "\n",
        "    iter_time = time.time()\n",
        "    done = True\n",
        "    for i in range(total_steps):\n",
        "        if verbose and (i + 1) % 1000 == 0:\n",
        "            steps_per_second = 1000 / (time.time() - iter_time)\n",
        "            print(f'Step {i + 1}/{total_steps}, Steps per second: {steps_per_second}')\n",
        "            iter_time = time.time()\n",
        "\n",
        "        if done:\n",
        "            obs, info = env.reset()\n",
        "\n",
        "        act = model(torch.from_numpy(obs).unsqueeze(0).float())[0].detach().cpu().numpy()\n",
        "        obs_, rew, terminated, truncated, _ = env.step(act)\n",
        "        done = terminated or truncated\n",
        "\n",
        "        obs_array[i] = obs\n",
        "        act_array[i] = act\n",
        "        rew_array[i] = rew\n",
        "        done_array[i] = float(done)\n",
        "\n",
        "        obs = obs_\n",
        "\n",
        "    return obs_array, act_array, rew_array, done_array\n",
        "\n",
        "def calculate_returns(rew, done):\n",
        "    rew_cumsum = np.cumsum(rew)[:, None]\n",
        "    ret_cumsum = rew_cumsum * done\n",
        "    ret_cumsum_trimed = ret_cumsum[np.nonzero(ret_cumsum)]\n",
        "    ret_cumsum_trimed[1:] -= ret_cumsum_trimed[:-1]\n",
        "    return ret_cumsum_trimed\n",
        "\n",
        "def evaluate_agent(env, model, verbose=False):\n",
        "    _, _, rew, done = run_policy(env, model, total_steps=50000, verbose=verbose)\n",
        "    rets = calculate_returns(rew, done)\n",
        "\n",
        "    print(f'Num. episodes: {len(rets)}')\n",
        "    print(f'Avg. return: {np.mean(rets)}')\n",
        "    print(f'Max. return: {np.max(rets)}')\n",
        "    print(f'Min. return: {np.min(rets)}')\n",
        "\n",
        "@torch.no_grad()\n",
        "def collect_frames(eval_env, model, num_frames=2000):\n",
        "    state, _ = eval_env.reset()\n",
        "    state = torch.from_numpy(np.array(state)).float()\n",
        "    frames = []\n",
        "\n",
        "    for _ in range(num_frames):\n",
        "        frames.append(eval_env.render())\n",
        "\n",
        "        action = model(state.unsqueeze(0))[0]\n",
        "        next_state, reward, terminal, truncate, info = eval_env.step(action.detach().cpu().numpy())\n",
        "\n",
        "        if terminal or truncate:\n",
        "            state, _ = eval_env.reset()\n",
        "        state = next_state\n",
        "        state = torch.from_numpy(np.array(state)).float()\n",
        "\n",
        "    return frames\n",
        "\n",
        "def display_frames_as_video(frames):\n",
        "    \"\"\"\n",
        "    Displays a list of frames as a video.\n",
        "    \"\"\"\n",
        "    plt.figure(figsize=(frames[0].shape[1] / 72.0, frames[0].shape[0] / 72.0), dpi=72)\n",
        "    patch = plt.imshow(frames[0])\n",
        "    plt.axis('off')\n",
        "\n",
        "    def animate(i):\n",
        "        patch.set_data(frames[i])\n",
        "\n",
        "    anim = animation.FuncAnimation(plt.gcf(), animate, frames=len(frames), interval=50)\n",
        "    ipydisplay.display(ipydisplay.HTML(anim.to_jshtml()))"
      ]
    },
    {
      "cell_type": "markdown",
      "metadata": {
        "id": "ZSiZuQnzijMY"
      },
      "source": [
        "## 1. Behavior Clonning\n",
        "\n",
        "Algorithm\n",
        "\n",
        "1. Collect the expert data.\n",
        "2. Fit the model (classifier/regressor) to the expert data."
      ]
    },
    {
      "cell_type": "markdown",
      "metadata": {
        "id": "xGkOlSfWj5Cs"
      },
      "source": [
        "### Create model"
      ]
    },
    {
      "cell_type": "code",
      "execution_count": null,
      "metadata": {
        "id": "v8e3RXYsij0O"
      },
      "outputs": [],
      "source": [
        "import torch\n",
        "import torch.nn as nn\n",
        "\n",
        "\n",
        "class MLP(nn.Module):\n",
        "    def __init__(self, input_shape, output_size, hidden_sizes=(256, 256), hidden_activation=nn.Tanh(), output_activation=None, l2_weight=0.0001):\n",
        "        super(MLP, self).__init__()\n",
        "        self.layers = nn.Sequential()\n",
        "\n",
        "        # Input layer\n",
        "        self.layers.add_module(\"input\", nn.Linear(input_shape, hidden_sizes[0]))\n",
        "        self.layers.add_module(\"input_activation\", hidden_activation)\n",
        "\n",
        "        # Hidden layers\n",
        "        layer_sizes = zip(hidden_sizes[:-1], hidden_sizes[1:])\n",
        "        for i, (h1, h2) in enumerate(layer_sizes):\n",
        "            self.layers.add_module(f\"hidden_{i}\", nn.Linear(h1, h2))\n",
        "            self.layers.add_module(f\"activation_{i}\", hidden_activation)\n",
        "\n",
        "        # Output layer\n",
        "        self.layers.add_module(\"output\", nn.Linear(hidden_sizes[-1], output_size))\n",
        "        if output_activation is not None:\n",
        "            self.layers.add_module(\"output_activation\", output_activation)\n",
        "\n",
        "        # Regularization\n",
        "        self.l2_weight = l2_weight\n",
        "\n",
        "    def forward(self, x):\n",
        "        # Forward pass through the network\n",
        "        x = self.layers(x)\n",
        "        return x\n",
        "\n",
        "    def l2_regularization(self):\n",
        "        l2_reg = None\n",
        "        for name, param in self.named_parameters():\n",
        "            if 'weight' in name:\n",
        "                if l2_reg is None:\n",
        "                    l2_reg = param.norm(2)\n",
        "                else:\n",
        "                    l2_reg = l2_reg + param.norm(2)\n",
        "        return self.l2_weight * l2_reg"
      ]
    },
    {
      "cell_type": "markdown",
      "metadata": {
        "id": "jmDBOLRIilgz"
      },
      "source": [
        "### Function for training the model"
      ]
    },
    {
      "cell_type": "code",
      "execution_count": null,
      "metadata": {
        "id": "Ft4CtoNgik6E"
      },
      "outputs": [],
      "source": [
        "from torch.utils.data import DataLoader, TensorDataset\n",
        "\n",
        "\n",
        "def train(obs, act, model, num_epochs=10, batch_size=32):\n",
        "    obs_tensor = torch.tensor(obs, dtype=torch.float32)\n",
        "    act_tensor = torch.tensor(act, dtype=torch.float32)\n",
        "\n",
        "    dataset = TensorDataset(obs_tensor, act_tensor)\n",
        "    data_loader = DataLoader(dataset, batch_size=batch_size, shuffle=True)\n",
        "\n",
        "\n",
        "    # Define the loss function and optimizer\n",
        "    loss_fn = nn.MSELoss()\n",
        "    optimizer = torch.optim.Adam(model.parameters())\n",
        "\n",
        "    # Training loop\n",
        "    for epoch in range(num_epochs):\n",
        "        for batch_idx, (x_batch, y_batch) in enumerate(data_loader):\n",
        "            # Forward pass\n",
        "            y_pred = model(x_batch)\n",
        "\n",
        "            # Compute loss\n",
        "            loss = loss_fn(y_pred, y_batch) + model.l2_regularization()\n",
        "\n",
        "            # Zero gradients, perform a backward pass, and update the weights.\n",
        "            optimizer.zero_grad()\n",
        "            loss.backward()\n",
        "            optimizer.step()\n",
        "\n",
        "        # Print loss every epoch\n",
        "        print(f\"Epoch {epoch+1}/{num_epochs}, Loss: {loss.item()}\")"
      ]
    },
    {
      "cell_type": "code",
      "execution_count": null,
      "metadata": {
        "colab": {
          "base_uri": "https://localhost:8080/"
        },
        "id": "-cQA_gW6iofY",
        "outputId": "9ab526b1-6f6c-4333-cddf-27206e7db982"
      },
      "outputs": [
        {
          "output_type": "stream",
          "name": "stdout",
          "text": [
            "Step 1000/10000, Steps per second: 379.65201811516704\n",
            "Step 2000/10000, Steps per second: 426.8500788099053\n",
            "Step 3000/10000, Steps per second: 528.6418946442903\n",
            "Step 4000/10000, Steps per second: 554.1124077041671\n",
            "Step 5000/10000, Steps per second: 535.8420951772597\n",
            "Step 6000/10000, Steps per second: 531.941710313417\n",
            "Step 7000/10000, Steps per second: 554.1015736982265\n",
            "Step 8000/10000, Steps per second: 474.18550072066677\n",
            "Step 9000/10000, Steps per second: 479.1545739551869\n",
            "Step 10000/10000, Steps per second: 553.2128004216459\n"
          ]
        }
      ],
      "source": [
        "env = gym.make('Ant-v4')\n",
        "env.num_agents = 1\n",
        "env_info = extract_env_info(env, cfg)\n",
        "device = torch.device(\"cpu\" if cfg.device == \"cpu\" else \"cuda\")\n",
        "collected_data = run_policy(env, functools.partial(get_expert_actions, cfg=cfg, actor_critic=expert, env=env, env_info=env_info, device=device), total_steps=10000)"
      ]
    },
    {
      "cell_type": "code",
      "execution_count": null,
      "metadata": {
        "colab": {
          "base_uri": "https://localhost:8080/"
        },
        "id": "TTsFAoG4iqN4",
        "outputId": "7fa75178-998c-4768-9f50-fa620f70f2c2"
      },
      "outputs": [
        {
          "output_type": "stream",
          "name": "stdout",
          "text": [
            "Epoch 1/10, Loss: 0.021796569228172302\n",
            "Epoch 2/10, Loss: 0.016460420563817024\n",
            "Epoch 3/10, Loss: 0.02250201813876629\n",
            "Epoch 4/10, Loss: 0.01154329814016819\n",
            "Epoch 5/10, Loss: 0.012282459065318108\n",
            "Epoch 6/10, Loss: 0.010156218893826008\n",
            "Epoch 7/10, Loss: 0.010844487696886063\n",
            "Epoch 8/10, Loss: 0.014313793741166592\n",
            "Epoch 9/10, Loss: 0.01035749725997448\n",
            "Epoch 10/10, Loss: 0.010213336907327175\n"
          ]
        }
      ],
      "source": [
        "obs, act, rewards, dones = collected_data\n",
        "\n",
        "# EXERCISE: Create model\n",
        "model = MLP(obs.shape[1],act.shape[1])\n",
        "\n",
        "train(obs, act, model)"
      ]
    },
    {
      "cell_type": "code",
      "execution_count": null,
      "metadata": {
        "colab": {
          "base_uri": "https://localhost:8080/"
        },
        "id": "JCjtebL4irnz",
        "outputId": "8a6a598a-3b79-487f-cb7d-90412db8f6f1"
      },
      "outputs": [
        {
          "output_type": "stream",
          "name": "stdout",
          "text": [
            "Num. episodes: 71\n",
            "Avg. return: 3093.519522819137\n",
            "Max. return: 5835.056780939398\n",
            "Min. return: 83.65747508578352\n"
          ]
        }
      ],
      "source": [
        "evaluate_agent(env, model)"
      ]
    },
    {
      "cell_type": "markdown",
      "metadata": {
        "id": "AgaDRcOgisq5"
      },
      "source": [
        "### Exercise\n",
        "\n",
        "Discuss the questions\n",
        "\n",
        "1. In principle, do we need the expert policy for BC?\n",
        "\n",
        "2. What are the problems with BC?\n",
        "\n",
        "3. How can we help BC do better?\n"
      ]
    },
    {
      "cell_type": "code",
      "execution_count": null,
      "metadata": {
        "colab": {
          "base_uri": "https://localhost:8080/"
        },
        "id": "y0Z_UzUBithV",
        "outputId": "97d6acec-3f71-4d81-fd32-de26a0ac4c62"
      },
      "outputs": [
        {
          "output_type": "stream",
          "name": "stdout",
          "text": [
            "Step 1000/10000, Steps per second: 530.5566595720081\n",
            "Step 2000/10000, Steps per second: 549.3742119854444\n",
            "Step 3000/10000, Steps per second: 462.77798042615296\n",
            "Step 4000/10000, Steps per second: 504.36368022197126\n",
            "Step 5000/10000, Steps per second: 556.7721766833704\n",
            "Step 6000/10000, Steps per second: 551.4555253902935\n",
            "Step 7000/10000, Steps per second: 559.0335418472387\n",
            "Step 8000/10000, Steps per second: 542.1329848629966\n",
            "Step 9000/10000, Steps per second: 501.08788162471643\n",
            "Step 10000/10000, Steps per second: 452.03963520437304\n"
          ]
        }
      ],
      "source": [
        "# Collect the exploratory data\n",
        "def exploratory(obs, **kwargs):\n",
        "    \"\"\"Adds the Gaussian noise to the expert actions.\"\"\"\n",
        "    actor_critic = kwargs['actor_critic']\n",
        "    device = kwargs['device']\n",
        "    rnn_states = torch.zeros([env.num_agents, get_rnn_size(cfg)], dtype=torch.float32, device=device)\n",
        "\n",
        "    obs = {\"obs\": obs}\n",
        "    with torch.no_grad():\n",
        "        normalized_obs = prepare_and_normalize_obs(actor_critic, obs)\n",
        "        policy_outputs = actor_critic(normalized_obs, rnn_states)\n",
        "\n",
        "        # sample actions from the distribution by default\n",
        "        action = policy_outputs[\"actions\"]\n",
        "\n",
        "    noise = np.random.normal(loc=0.0, scale=0.1, size=action.shape)\n",
        "    actions = action.cpu().numpy().squeeze(0) + noise\n",
        "\n",
        "\n",
        "    return action\n",
        "\n",
        "expl_data = run_policy(env, functools.partial(exploratory, cfg=cfg, actor_critic=expert, env=env, env_info=env_info, device=device), total_steps=10000)"
      ]
    },
    {
      "cell_type": "code",
      "execution_count": null,
      "metadata": {
        "colab": {
          "base_uri": "https://localhost:8080/"
        },
        "id": "lMgZIS9piuf5",
        "outputId": "360081f7-dfed-47b8-b2d8-59f4b9a8e24a"
      },
      "outputs": [
        {
          "output_type": "stream",
          "name": "stdout",
          "text": [
            "Epoch 1/10, Loss: 0.02435445412993431\n",
            "Epoch 2/10, Loss: 0.00960962101817131\n",
            "Epoch 3/10, Loss: 0.012818087823688984\n",
            "Epoch 4/10, Loss: 0.00984911061823368\n",
            "Epoch 5/10, Loss: 0.013790028169751167\n",
            "Epoch 6/10, Loss: 0.009992108680307865\n",
            "Epoch 7/10, Loss: 0.010530606843531132\n",
            "Epoch 8/10, Loss: 0.009741706773638725\n",
            "Epoch 9/10, Loss: 0.009490123949944973\n",
            "Epoch 10/10, Loss: 0.00864497385919094\n"
          ]
        }
      ],
      "source": [
        "obs_expl, act_expl, rewards, dones = expl_data\n",
        "# Exercise: Run BC on the exploratory data\n",
        "\n",
        "# ANSWER\n",
        "model_expl = MLP(obs.shape[1],act.shape[1])\n",
        "\n",
        "train(obs_expl, act_expl, model_expl)\n",
        "# END ANSWER"
      ]
    },
    {
      "cell_type": "code",
      "execution_count": null,
      "metadata": {
        "colab": {
          "base_uri": "https://localhost:8080/"
        },
        "id": "Bgu4_EG1ivJp",
        "outputId": "758199fa-f002-4015-e4ee-de39a22703ef"
      },
      "outputs": [
        {
          "output_type": "stream",
          "name": "stdout",
          "text": [
            "Num. episodes: 55\n",
            "Avg. return: 4135.02754306536\n",
            "Max. return: 5441.503706138639\n",
            "Min. return: 248.34502075851196\n"
          ]
        }
      ],
      "source": [
        "evaluate_agent(env, model_expl)"
      ]
    },
    {
      "cell_type": "markdown",
      "metadata": {
        "id": "Nif8vM9xiv1I"
      },
      "source": [
        "### Exercise\n",
        "\n",
        "Answer the questions\n",
        "\n",
        "1. Why does it better?\n",
        "\n",
        "2. How can we use the expert to further improve the data?\n"
      ]
    },
    {
      "cell_type": "code",
      "execution_count": null,
      "metadata": {
        "colab": {
          "base_uri": "https://localhost:8080/"
        },
        "id": "NkJSTo7CiwkJ",
        "outputId": "b7ae166e-9948-4590-8606-2b20c2b8d1e3"
      },
      "outputs": [
        {
          "output_type": "stream",
          "name": "stdout",
          "text": [
            "Epoch 1/10, Loss: 0.10653416067361832\n",
            "Epoch 2/10, Loss: 0.08438189327716827\n",
            "Epoch 3/10, Loss: 0.07892758399248123\n",
            "Epoch 4/10, Loss: 0.11598573625087738\n",
            "Epoch 5/10, Loss: 0.124897800385952\n",
            "Epoch 6/10, Loss: 0.11339180916547775\n",
            "Epoch 7/10, Loss: 0.1143798977136612\n",
            "Epoch 8/10, Loss: 0.13121433556079865\n",
            "Epoch 9/10, Loss: 0.10024147480726242\n",
            "Epoch 10/10, Loss: 0.09443077445030212\n"
          ]
        }
      ],
      "source": [
        "# Exercise: Infere the expert actions on the exploratory observations\n",
        "#           and run BC on it.\n",
        "\n",
        "# ANSWER\n",
        "model_expl2 = MLP(obs.shape[1],act.shape[1])\n",
        "\n",
        "train(obs_expl, act, model_expl2)\n",
        "# ANSWER END"
      ]
    },
    {
      "cell_type": "code",
      "execution_count": null,
      "metadata": {
        "colab": {
          "base_uri": "https://localhost:8080/"
        },
        "id": "VpiX-6KxixSp",
        "outputId": "27b32cdd-9c52-4dac-ee98-cd0c58fdbcc6"
      },
      "outputs": [
        {
          "output_type": "stream",
          "name": "stdout",
          "text": [
            "Num. episodes: 50\n",
            "Avg. return: 973.5679341294891\n",
            "Max. return: 977.7452602636986\n",
            "Min. return: 969.3193223422713\n"
          ]
        }
      ],
      "source": [
        "evaluate_agent(env, model_expl2)"
      ]
    },
    {
      "cell_type": "markdown",
      "metadata": {
        "id": "81NLiQFqiyHd"
      },
      "source": [
        "### Exercise\n",
        "\n",
        "Answer the questions\n",
        "\n",
        "1. Did it help? Why?\n",
        "\n",
        "\n",
        "1. How can you extend this idea?\n"
      ]
    },
    {
      "cell_type": "markdown",
      "metadata": {
        "id": "wiOVC31Qiy8q"
      },
      "source": [
        "## 2. Imitation Learning via Interactive Demostrator\n",
        "\n",
        "[DAgger](https://www.ri.cmu.edu/pub_files/2011/4/Ross-AISTATS11-NoRegret.pdf)\n",
        "\n",
        "1. Collect the expert data.\n",
        "2. Fit the model (classifier/regressor) to the expert data.\n",
        "3. Collect the imitator data.\n",
        "4. Infere the expert actions on the imitator data.\n",
        "5. Fit the model to the extended dataset.\n",
        "6. Repeat from 3."
      ]
    },
    {
      "cell_type": "code",
      "execution_count": null,
      "metadata": {
        "colab": {
          "base_uri": "https://localhost:8080/"
        },
        "id": "jvy85dEoizye",
        "outputId": "404114e5-517e-48ba-f82d-0be64d2b4565"
      },
      "outputs": [
        {
          "output_type": "stream",
          "name": "stdout",
          "text": [
            "Epoch 1/10, Loss: 0.015676820650696754\n",
            "Epoch 2/10, Loss: 0.01980752684175968\n",
            "Epoch 3/10, Loss: 0.020538102835416794\n",
            "Epoch 4/10, Loss: 0.01718851923942566\n",
            "Epoch 5/10, Loss: 0.01521988958120346\n",
            "Epoch 6/10, Loss: 0.017059536650776863\n",
            "Epoch 7/10, Loss: 0.0156804621219635\n",
            "Epoch 8/10, Loss: 0.014178525656461716\n",
            "Epoch 9/10, Loss: 0.016450518742203712\n",
            "Epoch 10/10, Loss: 0.011872194707393646\n",
            "Num. episodes: 52\n",
            "Avg. return: 2135.42283528244\n",
            "Max. return: 3514.7118929275457\n",
            "Min. return: 354.0324307441406\n"
          ]
        }
      ],
      "source": [
        "# We will pre-train on less expert data to keep the same dataset size\n",
        "obs_ = obs[:2000,:]\n",
        "act_ = act[:2000,:]\n",
        "\n",
        "# EXERCISE: pretrain on first 2000 samples\n",
        "# ANSWER\n",
        "model_dagger = MLP(obs.shape[1],act.shape[1])\n",
        "\n",
        "train(obs_, act_, model_dagger)\n",
        "# END ANSWER\n",
        "\n",
        "evaluate_agent(env, model_dagger)"
      ]
    },
    {
      "cell_type": "code",
      "execution_count": null,
      "metadata": {
        "colab": {
          "base_uri": "https://localhost:8080/"
        },
        "id": "Uz_AQ9t3i0r3",
        "outputId": "3e50c722-c750-4027-daff-9c22f6811c59"
      },
      "outputs": [
        {
          "output_type": "stream",
          "name": "stdout",
          "text": [
            "\n",
            "### Iter. 1 ###\n",
            "\n",
            "1. Data collection\n",
            "Step 1000/2000, Steps per second: 1472.4275108440604\n",
            "Step 2000/2000, Steps per second: 1513.7896822174364\n",
            "\n",
            "2. Training\n",
            "Epoch 1/10, Loss: 0.020126618444919586\n",
            "Epoch 2/10, Loss: 0.014334116131067276\n",
            "Epoch 3/10, Loss: 0.016180135309696198\n",
            "Epoch 4/10, Loss: 0.018862437456846237\n",
            "Epoch 5/10, Loss: 0.013169465586543083\n",
            "Epoch 6/10, Loss: 0.014183281920850277\n",
            "Epoch 7/10, Loss: 0.014540482312440872\n",
            "Epoch 8/10, Loss: 0.010575336404144764\n",
            "Epoch 9/10, Loss: 0.017425434663891792\n",
            "Epoch 10/10, Loss: 0.013572730123996735\n",
            "\n",
            "3. Evaluation\n",
            "Num. episodes: 66\n",
            "Avg. return: 2325.631211924442\n",
            "Max. return: 4792.506370554613\n",
            "Min. return: 116.54724428863847\n",
            "\n",
            "### Iter. 2 ###\n",
            "\n",
            "1. Data collection\n",
            "Step 1000/2000, Steps per second: 1510.4947285970236\n",
            "Step 2000/2000, Steps per second: 1481.6548114612565\n",
            "\n",
            "2. Training\n",
            "Epoch 1/10, Loss: 0.02819034270942211\n",
            "Epoch 2/10, Loss: 0.02891124226152897\n",
            "Epoch 3/10, Loss: 0.022566312924027443\n",
            "Epoch 4/10, Loss: 0.014326747506856918\n",
            "Epoch 5/10, Loss: 0.016190694645047188\n",
            "Epoch 6/10, Loss: 0.012271099723875523\n",
            "Epoch 7/10, Loss: 0.013713240623474121\n",
            "Epoch 8/10, Loss: 0.012930243276059628\n",
            "Epoch 9/10, Loss: 0.01568549871444702\n",
            "Epoch 10/10, Loss: 0.016142360866069794\n",
            "\n",
            "3. Evaluation\n",
            "Num. episodes: 64\n",
            "Avg. return: 3538.1561315398467\n",
            "Max. return: 5640.256557758694\n",
            "Min. return: 103.33395555513562\n",
            "\n",
            "### Iter. 3 ###\n",
            "\n",
            "1. Data collection\n",
            "Step 1000/2000, Steps per second: 1561.996409977581\n",
            "Step 2000/2000, Steps per second: 1580.2945449503566\n",
            "\n",
            "2. Training\n",
            "Epoch 1/10, Loss: 0.02515718899667263\n",
            "Epoch 2/10, Loss: 0.01875912770628929\n",
            "Epoch 3/10, Loss: 0.016225092113018036\n",
            "Epoch 4/10, Loss: 0.02155471220612526\n",
            "Epoch 5/10, Loss: 0.01591941900551319\n",
            "Epoch 6/10, Loss: 0.013920188881456852\n",
            "Epoch 7/10, Loss: 0.01107708178460598\n",
            "Epoch 8/10, Loss: 0.012072526849806309\n",
            "Epoch 9/10, Loss: 0.012811812572181225\n",
            "Epoch 10/10, Loss: 0.018027283251285553\n",
            "\n",
            "3. Evaluation\n",
            "Num. episodes: 77\n",
            "Avg. return: 1930.5317709674716\n",
            "Max. return: 5942.74392418121\n",
            "Min. return: -372.4052902537878\n",
            "\n",
            "### Iter. 4 ###\n",
            "\n",
            "1. Data collection\n",
            "Step 1000/2000, Steps per second: 1362.7701543126243\n",
            "Step 2000/2000, Steps per second: 1454.6599675309023\n",
            "\n",
            "2. Training\n",
            "Epoch 1/10, Loss: 0.023936962708830833\n",
            "Epoch 2/10, Loss: 0.017028089612722397\n",
            "Epoch 3/10, Loss: 0.019255097955465317\n",
            "Epoch 4/10, Loss: 0.014698929153382778\n",
            "Epoch 5/10, Loss: 0.022827468812465668\n",
            "Epoch 6/10, Loss: 0.012525033205747604\n",
            "Epoch 7/10, Loss: 0.012209201231598854\n",
            "Epoch 8/10, Loss: 0.009339628741145134\n",
            "Epoch 9/10, Loss: 0.009953145869076252\n",
            "Epoch 10/10, Loss: 0.008754022419452667\n",
            "\n",
            "3. Evaluation\n",
            "Num. episodes: 64\n",
            "Avg. return: 4020.5536265787487\n",
            "Max. return: 6027.842569677945\n",
            "Min. return: 69.62036769540282\n"
          ]
        }
      ],
      "source": [
        "# Exercise: Implement DAgger\n",
        "\n",
        "for i in range(4):\n",
        "    print(f'\\n### Iter. {i+1} ###')\n",
        "\n",
        "    # ANSWER\n",
        "    print('\\n1. Data collection')\n",
        "    obs_extra, _, _, _ = run_policy(env, model_dagger, total_steps=2000) # Collect 2k steps\n",
        "    obs_ = np.concatenate((obs_, obs_extra), axis=0)\n",
        "    act_expert = get_expert_actions(obs_extra, cfg=cfg, actor_critic=expert, env=env, env_info=env_info, device=device).cpu().numpy()\n",
        "    act_ = np.concatenate((act_, act_expert), axis=0)\n",
        "    print('\\n2. Training')\n",
        "    # reset model for fair comparison\n",
        "    model_dagger = MLP(obs.shape[1],act.shape[1])\n",
        "\n",
        "    train(obs_, act_, model_dagger)\n",
        "    # END ANSWER\n",
        "\n",
        "    print('\\n3. Evaluation')\n",
        "    evaluate_agent(env, model_dagger)"
      ]
    },
    {
      "cell_type": "markdown",
      "metadata": {
        "id": "wGKMEWQti3oo"
      },
      "source": [
        "### Note\n",
        "\n",
        "Training the expert with the PPO algorithm took 10M data samples (env. interactions). Here, we nearly match it with only 10k samples! Training from the expert can be much more efficient than reinforcement learning."
      ]
    }
  ],
  "metadata": {
    "accelerator": "GPU",
    "colab": {
      "gpuType": "T4",
      "provenance": []
    },
    "kernelspec": {
      "display_name": "Python 3",
      "name": "python3"
    },
    "language_info": {
      "codemirror_mode": {
        "name": "ipython",
        "version": 3
      },
      "file_extension": ".py",
      "mimetype": "text/x-python",
      "name": "python",
      "nbconvert_exporter": "python",
      "pygments_lexer": "ipython3",
      "version": "3.9.19"
    }
  },
  "nbformat": 4,
  "nbformat_minor": 0
}